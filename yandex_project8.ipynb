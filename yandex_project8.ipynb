{
 "cells": [
  {
   "cell_type": "markdown",
   "metadata": {},
   "source": [
    "# Best Location for New Well Machine Learning"
   ]
  },
  {
   "cell_type": "markdown",
   "metadata": {},
   "source": [
    "You work for the OilyGiant mining company. Your task is to find the best place for a new well.\n",
    "\n",
    "Steps to choose the location:\n",
    "* Collect the oil well parameters in the selected region: oil quality and volume of reserves;\n",
    "* Build a model for predicting the volume of reserves in the new wells;\n",
    "* Pick the oil wells with the highest estimated values;\n",
    "* Pick the region with the highest total profit for the selected oil wells.\n",
    "\n",
    "You have data on oil samples from three regions. Parameters of each oil well in the region are already known. Build a model that will help to pick the region with the highest profit margin. Analyze potential profit and risks using the Bootstrapping technique."
   ]
  },
  {
   "cell_type": "markdown",
   "metadata": {
    "toc": true
   },
   "source": [
    "<h1>Table of Contents<span class=\"tocSkip\"></span></h1>\n",
    "<div class=\"toc\"><ul class=\"toc-item\"><li><span><a href=\"#Open-the-data-file-and-study-the-general-information\" data-toc-modified-id=\"Open-the-data-file-and-study-the-general-information-1\"><span class=\"toc-item-num\">1&nbsp;&nbsp;</span>Open the data file and study the general information</a></span></li><li><span><a href=\"#Train-and-test-the-model-for-each-region\" data-toc-modified-id=\"Train-and-test-the-model-for-each-region-2\"><span class=\"toc-item-num\">2&nbsp;&nbsp;</span>Train and test the model for each region</a></span></li><li><span><a href=\"#Profit-calculation\" data-toc-modified-id=\"Profit-calculation-3\"><span class=\"toc-item-num\">3&nbsp;&nbsp;</span>Profit calculation</a></span></li><li><span><a href=\"#Write-a-function-to-calculate-profit-from-a-set-of-selected-oil-wells-and-model-predictions\" data-toc-modified-id=\"Write-a-function-to-calculate-profit-from-a-set-of-selected-oil-wells-and-model-predictions-4\"><span class=\"toc-item-num\">4&nbsp;&nbsp;</span>Write a function to calculate profit from a set of selected oil wells and model predictions</a></span></li><li><span><a href=\"#Calculate-risks-and-profit-for-each-region\" data-toc-modified-id=\"Calculate-risks-and-profit-for-each-region-5\"><span class=\"toc-item-num\">5&nbsp;&nbsp;</span>Calculate risks and profit for each region</a></span></li><li><span><a href=\"#Overall-Conclusion\" data-toc-modified-id=\"Overall-Conclusion-6\"><span class=\"toc-item-num\">6&nbsp;&nbsp;</span>Overall Conclusion</a></span></li></ul></div>"
   ]
  },
  {
   "cell_type": "code",
   "execution_count": 1,
   "metadata": {},
   "outputs": [],
   "source": [
    "# import pandas\n",
    "import pandas as pd\n",
    "# import numpy\n",
    "import numpy as np\n",
    "# import matplot\n",
    "import matplotlib.pyplot as plt\n",
    "import seaborn as sns\n",
    "# models\n",
    "from sklearn.linear_model import LinearRegression\n",
    "from sklearn.tree import DecisionTreeClassifier\n",
    "from sklearn.ensemble import RandomForestClassifier\n",
    "from sklearn.linear_model import LogisticRegression\n",
    "from sklearn.model_selection import train_test_split\n",
    "# metrics\n",
    "from sklearn.metrics import mean_squared_error, accuracy_score, f1_score, confusion_matrix, roc_auc_score, roc_curve, precision_recall_curve\n",
    "from sklearn.utils import shuffle\n",
    "from sklearn.metrics import mean_squared_error"
   ]
  },
  {
   "cell_type": "markdown",
   "metadata": {},
   "source": [
    "## Open the data file and study the general information"
   ]
  },
  {
   "cell_type": "markdown",
   "metadata": {},
   "source": [
    "**Open the data**"
   ]
  },
  {
   "cell_type": "code",
   "execution_count": 2,
   "metadata": {},
   "outputs": [
    {
     "name": "stdout",
     "output_type": "stream",
     "text": [
      "Read the data successfully. \n"
     ]
    }
   ],
   "source": [
    "try: \n",
    "    df0 = pd.read_csv('https://code.s3.yandex.net/datasets/geo_data_0.csv')\n",
    "    df1 = pd.read_csv('https://code.s3.yandex.net/datasets/geo_data_1.csv')\n",
    "    df2 = pd.read_csv('https://code.s3.yandex.net/datasets/geo_data_2.csv')\n",
    "except:\n",
    "    print('Somethong went wrong.')\n",
    "else:\n",
    "    print(\"Read the data successfully. \")"
   ]
  },
  {
   "cell_type": "markdown",
   "metadata": {},
   "source": [
    "**check the first 5 rows of dataframes**"
   ]
  },
  {
   "cell_type": "code",
   "execution_count": 3,
   "metadata": {},
   "outputs": [
    {
     "data": {
      "text/html": [
       "<div>\n",
       "<style scoped>\n",
       "    .dataframe tbody tr th:only-of-type {\n",
       "        vertical-align: middle;\n",
       "    }\n",
       "\n",
       "    .dataframe tbody tr th {\n",
       "        vertical-align: top;\n",
       "    }\n",
       "\n",
       "    .dataframe thead th {\n",
       "        text-align: right;\n",
       "    }\n",
       "</style>\n",
       "<table border=\"1\" class=\"dataframe\">\n",
       "  <thead>\n",
       "    <tr style=\"text-align: right;\">\n",
       "      <th></th>\n",
       "      <th>id</th>\n",
       "      <th>f0</th>\n",
       "      <th>f1</th>\n",
       "      <th>f2</th>\n",
       "      <th>product</th>\n",
       "    </tr>\n",
       "  </thead>\n",
       "  <tbody>\n",
       "    <tr>\n",
       "      <td>0</td>\n",
       "      <td>txEyH</td>\n",
       "      <td>0.705745</td>\n",
       "      <td>-0.497823</td>\n",
       "      <td>1.221170</td>\n",
       "      <td>105.280062</td>\n",
       "    </tr>\n",
       "    <tr>\n",
       "      <td>1</td>\n",
       "      <td>2acmU</td>\n",
       "      <td>1.334711</td>\n",
       "      <td>-0.340164</td>\n",
       "      <td>4.365080</td>\n",
       "      <td>73.037750</td>\n",
       "    </tr>\n",
       "    <tr>\n",
       "      <td>2</td>\n",
       "      <td>409Wp</td>\n",
       "      <td>1.022732</td>\n",
       "      <td>0.151990</td>\n",
       "      <td>1.419926</td>\n",
       "      <td>85.265647</td>\n",
       "    </tr>\n",
       "    <tr>\n",
       "      <td>3</td>\n",
       "      <td>iJLyR</td>\n",
       "      <td>-0.032172</td>\n",
       "      <td>0.139033</td>\n",
       "      <td>2.978566</td>\n",
       "      <td>168.620776</td>\n",
       "    </tr>\n",
       "    <tr>\n",
       "      <td>4</td>\n",
       "      <td>Xdl7t</td>\n",
       "      <td>1.988431</td>\n",
       "      <td>0.155413</td>\n",
       "      <td>4.751769</td>\n",
       "      <td>154.036647</td>\n",
       "    </tr>\n",
       "  </tbody>\n",
       "</table>\n",
       "</div>"
      ],
      "text/plain": [
       "      id        f0        f1        f2     product\n",
       "0  txEyH  0.705745 -0.497823  1.221170  105.280062\n",
       "1  2acmU  1.334711 -0.340164  4.365080   73.037750\n",
       "2  409Wp  1.022732  0.151990  1.419926   85.265647\n",
       "3  iJLyR -0.032172  0.139033  2.978566  168.620776\n",
       "4  Xdl7t  1.988431  0.155413  4.751769  154.036647"
      ]
     },
     "metadata": {},
     "output_type": "display_data"
    },
    {
     "data": {
      "text/html": [
       "<div>\n",
       "<style scoped>\n",
       "    .dataframe tbody tr th:only-of-type {\n",
       "        vertical-align: middle;\n",
       "    }\n",
       "\n",
       "    .dataframe tbody tr th {\n",
       "        vertical-align: top;\n",
       "    }\n",
       "\n",
       "    .dataframe thead th {\n",
       "        text-align: right;\n",
       "    }\n",
       "</style>\n",
       "<table border=\"1\" class=\"dataframe\">\n",
       "  <thead>\n",
       "    <tr style=\"text-align: right;\">\n",
       "      <th></th>\n",
       "      <th>id</th>\n",
       "      <th>f0</th>\n",
       "      <th>f1</th>\n",
       "      <th>f2</th>\n",
       "      <th>product</th>\n",
       "    </tr>\n",
       "  </thead>\n",
       "  <tbody>\n",
       "    <tr>\n",
       "      <td>0</td>\n",
       "      <td>kBEdx</td>\n",
       "      <td>-15.001348</td>\n",
       "      <td>-8.276000</td>\n",
       "      <td>-0.005876</td>\n",
       "      <td>3.179103</td>\n",
       "    </tr>\n",
       "    <tr>\n",
       "      <td>1</td>\n",
       "      <td>62mP7</td>\n",
       "      <td>14.272088</td>\n",
       "      <td>-3.475083</td>\n",
       "      <td>0.999183</td>\n",
       "      <td>26.953261</td>\n",
       "    </tr>\n",
       "    <tr>\n",
       "      <td>2</td>\n",
       "      <td>vyE1P</td>\n",
       "      <td>6.263187</td>\n",
       "      <td>-5.948386</td>\n",
       "      <td>5.001160</td>\n",
       "      <td>134.766305</td>\n",
       "    </tr>\n",
       "    <tr>\n",
       "      <td>3</td>\n",
       "      <td>KcrkZ</td>\n",
       "      <td>-13.081196</td>\n",
       "      <td>-11.506057</td>\n",
       "      <td>4.999415</td>\n",
       "      <td>137.945408</td>\n",
       "    </tr>\n",
       "    <tr>\n",
       "      <td>4</td>\n",
       "      <td>AHL4O</td>\n",
       "      <td>12.702195</td>\n",
       "      <td>-8.147433</td>\n",
       "      <td>5.004363</td>\n",
       "      <td>134.766305</td>\n",
       "    </tr>\n",
       "  </tbody>\n",
       "</table>\n",
       "</div>"
      ],
      "text/plain": [
       "      id         f0         f1        f2     product\n",
       "0  kBEdx -15.001348  -8.276000 -0.005876    3.179103\n",
       "1  62mP7  14.272088  -3.475083  0.999183   26.953261\n",
       "2  vyE1P   6.263187  -5.948386  5.001160  134.766305\n",
       "3  KcrkZ -13.081196 -11.506057  4.999415  137.945408\n",
       "4  AHL4O  12.702195  -8.147433  5.004363  134.766305"
      ]
     },
     "metadata": {},
     "output_type": "display_data"
    },
    {
     "data": {
      "text/html": [
       "<div>\n",
       "<style scoped>\n",
       "    .dataframe tbody tr th:only-of-type {\n",
       "        vertical-align: middle;\n",
       "    }\n",
       "\n",
       "    .dataframe tbody tr th {\n",
       "        vertical-align: top;\n",
       "    }\n",
       "\n",
       "    .dataframe thead th {\n",
       "        text-align: right;\n",
       "    }\n",
       "</style>\n",
       "<table border=\"1\" class=\"dataframe\">\n",
       "  <thead>\n",
       "    <tr style=\"text-align: right;\">\n",
       "      <th></th>\n",
       "      <th>id</th>\n",
       "      <th>f0</th>\n",
       "      <th>f1</th>\n",
       "      <th>f2</th>\n",
       "      <th>product</th>\n",
       "    </tr>\n",
       "  </thead>\n",
       "  <tbody>\n",
       "    <tr>\n",
       "      <td>0</td>\n",
       "      <td>fwXo0</td>\n",
       "      <td>-1.146987</td>\n",
       "      <td>0.963328</td>\n",
       "      <td>-0.828965</td>\n",
       "      <td>27.758673</td>\n",
       "    </tr>\n",
       "    <tr>\n",
       "      <td>1</td>\n",
       "      <td>WJtFt</td>\n",
       "      <td>0.262778</td>\n",
       "      <td>0.269839</td>\n",
       "      <td>-2.530187</td>\n",
       "      <td>56.069697</td>\n",
       "    </tr>\n",
       "    <tr>\n",
       "      <td>2</td>\n",
       "      <td>ovLUW</td>\n",
       "      <td>0.194587</td>\n",
       "      <td>0.289035</td>\n",
       "      <td>-5.586433</td>\n",
       "      <td>62.871910</td>\n",
       "    </tr>\n",
       "    <tr>\n",
       "      <td>3</td>\n",
       "      <td>q6cA6</td>\n",
       "      <td>2.236060</td>\n",
       "      <td>-0.553760</td>\n",
       "      <td>0.930038</td>\n",
       "      <td>114.572842</td>\n",
       "    </tr>\n",
       "    <tr>\n",
       "      <td>4</td>\n",
       "      <td>WPMUX</td>\n",
       "      <td>-0.515993</td>\n",
       "      <td>1.716266</td>\n",
       "      <td>5.899011</td>\n",
       "      <td>149.600746</td>\n",
       "    </tr>\n",
       "  </tbody>\n",
       "</table>\n",
       "</div>"
      ],
      "text/plain": [
       "      id        f0        f1        f2     product\n",
       "0  fwXo0 -1.146987  0.963328 -0.828965   27.758673\n",
       "1  WJtFt  0.262778  0.269839 -2.530187   56.069697\n",
       "2  ovLUW  0.194587  0.289035 -5.586433   62.871910\n",
       "3  q6cA6  2.236060 -0.553760  0.930038  114.572842\n",
       "4  WPMUX -0.515993  1.716266  5.899011  149.600746"
      ]
     },
     "metadata": {},
     "output_type": "display_data"
    }
   ],
   "source": [
    "display(df0.head())\n",
    "display(df1.head())\n",
    "display(df2.head())"
   ]
  },
  {
   "cell_type": "markdown",
   "metadata": {},
   "source": [
    "**check the last 5 rows of dataframes**"
   ]
  },
  {
   "cell_type": "code",
   "execution_count": 4,
   "metadata": {},
   "outputs": [
    {
     "data": {
      "text/html": [
       "<div>\n",
       "<style scoped>\n",
       "    .dataframe tbody tr th:only-of-type {\n",
       "        vertical-align: middle;\n",
       "    }\n",
       "\n",
       "    .dataframe tbody tr th {\n",
       "        vertical-align: top;\n",
       "    }\n",
       "\n",
       "    .dataframe thead th {\n",
       "        text-align: right;\n",
       "    }\n",
       "</style>\n",
       "<table border=\"1\" class=\"dataframe\">\n",
       "  <thead>\n",
       "    <tr style=\"text-align: right;\">\n",
       "      <th></th>\n",
       "      <th>id</th>\n",
       "      <th>f0</th>\n",
       "      <th>f1</th>\n",
       "      <th>f2</th>\n",
       "      <th>product</th>\n",
       "    </tr>\n",
       "  </thead>\n",
       "  <tbody>\n",
       "    <tr>\n",
       "      <td>99995</td>\n",
       "      <td>DLsed</td>\n",
       "      <td>0.971957</td>\n",
       "      <td>0.370953</td>\n",
       "      <td>6.075346</td>\n",
       "      <td>110.744026</td>\n",
       "    </tr>\n",
       "    <tr>\n",
       "      <td>99996</td>\n",
       "      <td>QKivN</td>\n",
       "      <td>1.392429</td>\n",
       "      <td>-0.382606</td>\n",
       "      <td>1.273912</td>\n",
       "      <td>122.346843</td>\n",
       "    </tr>\n",
       "    <tr>\n",
       "      <td>99997</td>\n",
       "      <td>3rnvd</td>\n",
       "      <td>1.029585</td>\n",
       "      <td>0.018787</td>\n",
       "      <td>-1.348308</td>\n",
       "      <td>64.375443</td>\n",
       "    </tr>\n",
       "    <tr>\n",
       "      <td>99998</td>\n",
       "      <td>7kl59</td>\n",
       "      <td>0.998163</td>\n",
       "      <td>-0.528582</td>\n",
       "      <td>1.583869</td>\n",
       "      <td>74.040764</td>\n",
       "    </tr>\n",
       "    <tr>\n",
       "      <td>99999</td>\n",
       "      <td>1CWhH</td>\n",
       "      <td>1.764754</td>\n",
       "      <td>-0.266417</td>\n",
       "      <td>5.722849</td>\n",
       "      <td>149.633246</td>\n",
       "    </tr>\n",
       "  </tbody>\n",
       "</table>\n",
       "</div>"
      ],
      "text/plain": [
       "          id        f0        f1        f2     product\n",
       "99995  DLsed  0.971957  0.370953  6.075346  110.744026\n",
       "99996  QKivN  1.392429 -0.382606  1.273912  122.346843\n",
       "99997  3rnvd  1.029585  0.018787 -1.348308   64.375443\n",
       "99998  7kl59  0.998163 -0.528582  1.583869   74.040764\n",
       "99999  1CWhH  1.764754 -0.266417  5.722849  149.633246"
      ]
     },
     "metadata": {},
     "output_type": "display_data"
    },
    {
     "data": {
      "text/html": [
       "<div>\n",
       "<style scoped>\n",
       "    .dataframe tbody tr th:only-of-type {\n",
       "        vertical-align: middle;\n",
       "    }\n",
       "\n",
       "    .dataframe tbody tr th {\n",
       "        vertical-align: top;\n",
       "    }\n",
       "\n",
       "    .dataframe thead th {\n",
       "        text-align: right;\n",
       "    }\n",
       "</style>\n",
       "<table border=\"1\" class=\"dataframe\">\n",
       "  <thead>\n",
       "    <tr style=\"text-align: right;\">\n",
       "      <th></th>\n",
       "      <th>id</th>\n",
       "      <th>f0</th>\n",
       "      <th>f1</th>\n",
       "      <th>f2</th>\n",
       "      <th>product</th>\n",
       "    </tr>\n",
       "  </thead>\n",
       "  <tbody>\n",
       "    <tr>\n",
       "      <td>99995</td>\n",
       "      <td>QywKC</td>\n",
       "      <td>9.535637</td>\n",
       "      <td>-6.878139</td>\n",
       "      <td>1.998296</td>\n",
       "      <td>53.906522</td>\n",
       "    </tr>\n",
       "    <tr>\n",
       "      <td>99996</td>\n",
       "      <td>ptvty</td>\n",
       "      <td>-10.160631</td>\n",
       "      <td>-12.558096</td>\n",
       "      <td>5.005581</td>\n",
       "      <td>137.945408</td>\n",
       "    </tr>\n",
       "    <tr>\n",
       "      <td>99997</td>\n",
       "      <td>09gWa</td>\n",
       "      <td>-7.378891</td>\n",
       "      <td>-3.084104</td>\n",
       "      <td>4.998651</td>\n",
       "      <td>137.945408</td>\n",
       "    </tr>\n",
       "    <tr>\n",
       "      <td>99998</td>\n",
       "      <td>rqwUm</td>\n",
       "      <td>0.665714</td>\n",
       "      <td>-6.152593</td>\n",
       "      <td>1.000146</td>\n",
       "      <td>30.132364</td>\n",
       "    </tr>\n",
       "    <tr>\n",
       "      <td>99999</td>\n",
       "      <td>relB0</td>\n",
       "      <td>-3.426139</td>\n",
       "      <td>-7.794274</td>\n",
       "      <td>-0.003299</td>\n",
       "      <td>3.179103</td>\n",
       "    </tr>\n",
       "  </tbody>\n",
       "</table>\n",
       "</div>"
      ],
      "text/plain": [
       "          id         f0         f1        f2     product\n",
       "99995  QywKC   9.535637  -6.878139  1.998296   53.906522\n",
       "99996  ptvty -10.160631 -12.558096  5.005581  137.945408\n",
       "99997  09gWa  -7.378891  -3.084104  4.998651  137.945408\n",
       "99998  rqwUm   0.665714  -6.152593  1.000146   30.132364\n",
       "99999  relB0  -3.426139  -7.794274 -0.003299    3.179103"
      ]
     },
     "metadata": {},
     "output_type": "display_data"
    },
    {
     "data": {
      "text/html": [
       "<div>\n",
       "<style scoped>\n",
       "    .dataframe tbody tr th:only-of-type {\n",
       "        vertical-align: middle;\n",
       "    }\n",
       "\n",
       "    .dataframe tbody tr th {\n",
       "        vertical-align: top;\n",
       "    }\n",
       "\n",
       "    .dataframe thead th {\n",
       "        text-align: right;\n",
       "    }\n",
       "</style>\n",
       "<table border=\"1\" class=\"dataframe\">\n",
       "  <thead>\n",
       "    <tr style=\"text-align: right;\">\n",
       "      <th></th>\n",
       "      <th>id</th>\n",
       "      <th>f0</th>\n",
       "      <th>f1</th>\n",
       "      <th>f2</th>\n",
       "      <th>product</th>\n",
       "    </tr>\n",
       "  </thead>\n",
       "  <tbody>\n",
       "    <tr>\n",
       "      <td>99995</td>\n",
       "      <td>4GxBu</td>\n",
       "      <td>-1.777037</td>\n",
       "      <td>1.125220</td>\n",
       "      <td>6.263374</td>\n",
       "      <td>172.327046</td>\n",
       "    </tr>\n",
       "    <tr>\n",
       "      <td>99996</td>\n",
       "      <td>YKFjq</td>\n",
       "      <td>-1.261523</td>\n",
       "      <td>-0.894828</td>\n",
       "      <td>2.524545</td>\n",
       "      <td>138.748846</td>\n",
       "    </tr>\n",
       "    <tr>\n",
       "      <td>99997</td>\n",
       "      <td>tKPY3</td>\n",
       "      <td>-1.199934</td>\n",
       "      <td>-2.957637</td>\n",
       "      <td>5.219411</td>\n",
       "      <td>157.080080</td>\n",
       "    </tr>\n",
       "    <tr>\n",
       "      <td>99998</td>\n",
       "      <td>nmxp2</td>\n",
       "      <td>-2.419896</td>\n",
       "      <td>2.417221</td>\n",
       "      <td>-5.548444</td>\n",
       "      <td>51.795253</td>\n",
       "    </tr>\n",
       "    <tr>\n",
       "      <td>99999</td>\n",
       "      <td>V9kWn</td>\n",
       "      <td>-2.551421</td>\n",
       "      <td>-2.025625</td>\n",
       "      <td>6.090891</td>\n",
       "      <td>102.775767</td>\n",
       "    </tr>\n",
       "  </tbody>\n",
       "</table>\n",
       "</div>"
      ],
      "text/plain": [
       "          id        f0        f1        f2     product\n",
       "99995  4GxBu -1.777037  1.125220  6.263374  172.327046\n",
       "99996  YKFjq -1.261523 -0.894828  2.524545  138.748846\n",
       "99997  tKPY3 -1.199934 -2.957637  5.219411  157.080080\n",
       "99998  nmxp2 -2.419896  2.417221 -5.548444   51.795253\n",
       "99999  V9kWn -2.551421 -2.025625  6.090891  102.775767"
      ]
     },
     "metadata": {},
     "output_type": "display_data"
    }
   ],
   "source": [
    "display(df0.tail())\n",
    "display(df1.tail())\n",
    "display(df2.tail())"
   ]
  },
  {
   "cell_type": "markdown",
   "metadata": {},
   "source": [
    "**Display the information of dataframes**"
   ]
  },
  {
   "cell_type": "code",
   "execution_count": 5,
   "metadata": {},
   "outputs": [
    {
     "name": "stdout",
     "output_type": "stream",
     "text": [
      "<class 'pandas.core.frame.DataFrame'>\n",
      "RangeIndex: 100000 entries, 0 to 99999\n",
      "Data columns (total 5 columns):\n",
      "id         100000 non-null object\n",
      "f0         100000 non-null float64\n",
      "f1         100000 non-null float64\n",
      "f2         100000 non-null float64\n",
      "product    100000 non-null float64\n",
      "dtypes: float64(4), object(1)\n",
      "memory usage: 3.8+ MB\n"
     ]
    },
    {
     "data": {
      "text/plain": [
       "None"
      ]
     },
     "metadata": {},
     "output_type": "display_data"
    },
    {
     "name": "stdout",
     "output_type": "stream",
     "text": [
      "<class 'pandas.core.frame.DataFrame'>\n",
      "RangeIndex: 100000 entries, 0 to 99999\n",
      "Data columns (total 5 columns):\n",
      "id         100000 non-null object\n",
      "f0         100000 non-null float64\n",
      "f1         100000 non-null float64\n",
      "f2         100000 non-null float64\n",
      "product    100000 non-null float64\n",
      "dtypes: float64(4), object(1)\n",
      "memory usage: 3.8+ MB\n"
     ]
    },
    {
     "data": {
      "text/plain": [
       "None"
      ]
     },
     "metadata": {},
     "output_type": "display_data"
    },
    {
     "name": "stdout",
     "output_type": "stream",
     "text": [
      "<class 'pandas.core.frame.DataFrame'>\n",
      "RangeIndex: 100000 entries, 0 to 99999\n",
      "Data columns (total 5 columns):\n",
      "id         100000 non-null object\n",
      "f0         100000 non-null float64\n",
      "f1         100000 non-null float64\n",
      "f2         100000 non-null float64\n",
      "product    100000 non-null float64\n",
      "dtypes: float64(4), object(1)\n",
      "memory usage: 3.8+ MB\n"
     ]
    },
    {
     "data": {
      "text/plain": [
       "None"
      ]
     },
     "metadata": {},
     "output_type": "display_data"
    }
   ],
   "source": [
    "display(df0.info())\n",
    "display(df1.info())\n",
    "display(df2.info())"
   ]
  },
  {
   "cell_type": "markdown",
   "metadata": {},
   "source": [
    "**Check the statistics of dataframes**"
   ]
  },
  {
   "cell_type": "code",
   "execution_count": 6,
   "metadata": {},
   "outputs": [
    {
     "data": {
      "text/html": [
       "<div>\n",
       "<style scoped>\n",
       "    .dataframe tbody tr th:only-of-type {\n",
       "        vertical-align: middle;\n",
       "    }\n",
       "\n",
       "    .dataframe tbody tr th {\n",
       "        vertical-align: top;\n",
       "    }\n",
       "\n",
       "    .dataframe thead th {\n",
       "        text-align: right;\n",
       "    }\n",
       "</style>\n",
       "<table border=\"1\" class=\"dataframe\">\n",
       "  <thead>\n",
       "    <tr style=\"text-align: right;\">\n",
       "      <th></th>\n",
       "      <th>f0</th>\n",
       "      <th>f1</th>\n",
       "      <th>f2</th>\n",
       "      <th>product</th>\n",
       "    </tr>\n",
       "  </thead>\n",
       "  <tbody>\n",
       "    <tr>\n",
       "      <td>count</td>\n",
       "      <td>100000.000000</td>\n",
       "      <td>100000.000000</td>\n",
       "      <td>100000.000000</td>\n",
       "      <td>100000.000000</td>\n",
       "    </tr>\n",
       "    <tr>\n",
       "      <td>mean</td>\n",
       "      <td>0.500419</td>\n",
       "      <td>0.250143</td>\n",
       "      <td>2.502647</td>\n",
       "      <td>92.500000</td>\n",
       "    </tr>\n",
       "    <tr>\n",
       "      <td>std</td>\n",
       "      <td>0.871832</td>\n",
       "      <td>0.504433</td>\n",
       "      <td>3.248248</td>\n",
       "      <td>44.288691</td>\n",
       "    </tr>\n",
       "    <tr>\n",
       "      <td>min</td>\n",
       "      <td>-1.408605</td>\n",
       "      <td>-0.848218</td>\n",
       "      <td>-12.088328</td>\n",
       "      <td>0.000000</td>\n",
       "    </tr>\n",
       "    <tr>\n",
       "      <td>25%</td>\n",
       "      <td>-0.072580</td>\n",
       "      <td>-0.200881</td>\n",
       "      <td>0.287748</td>\n",
       "      <td>56.497507</td>\n",
       "    </tr>\n",
       "    <tr>\n",
       "      <td>50%</td>\n",
       "      <td>0.502360</td>\n",
       "      <td>0.250252</td>\n",
       "      <td>2.515969</td>\n",
       "      <td>91.849972</td>\n",
       "    </tr>\n",
       "    <tr>\n",
       "      <td>75%</td>\n",
       "      <td>1.073581</td>\n",
       "      <td>0.700646</td>\n",
       "      <td>4.715088</td>\n",
       "      <td>128.564089</td>\n",
       "    </tr>\n",
       "    <tr>\n",
       "      <td>max</td>\n",
       "      <td>2.362331</td>\n",
       "      <td>1.343769</td>\n",
       "      <td>16.003790</td>\n",
       "      <td>185.364347</td>\n",
       "    </tr>\n",
       "  </tbody>\n",
       "</table>\n",
       "</div>"
      ],
      "text/plain": [
       "                  f0             f1             f2        product\n",
       "count  100000.000000  100000.000000  100000.000000  100000.000000\n",
       "mean        0.500419       0.250143       2.502647      92.500000\n",
       "std         0.871832       0.504433       3.248248      44.288691\n",
       "min        -1.408605      -0.848218     -12.088328       0.000000\n",
       "25%        -0.072580      -0.200881       0.287748      56.497507\n",
       "50%         0.502360       0.250252       2.515969      91.849972\n",
       "75%         1.073581       0.700646       4.715088     128.564089\n",
       "max         2.362331       1.343769      16.003790     185.364347"
      ]
     },
     "metadata": {},
     "output_type": "display_data"
    },
    {
     "data": {
      "text/html": [
       "<div>\n",
       "<style scoped>\n",
       "    .dataframe tbody tr th:only-of-type {\n",
       "        vertical-align: middle;\n",
       "    }\n",
       "\n",
       "    .dataframe tbody tr th {\n",
       "        vertical-align: top;\n",
       "    }\n",
       "\n",
       "    .dataframe thead th {\n",
       "        text-align: right;\n",
       "    }\n",
       "</style>\n",
       "<table border=\"1\" class=\"dataframe\">\n",
       "  <thead>\n",
       "    <tr style=\"text-align: right;\">\n",
       "      <th></th>\n",
       "      <th>f0</th>\n",
       "      <th>f1</th>\n",
       "      <th>f2</th>\n",
       "      <th>product</th>\n",
       "    </tr>\n",
       "  </thead>\n",
       "  <tbody>\n",
       "    <tr>\n",
       "      <td>count</td>\n",
       "      <td>100000.000000</td>\n",
       "      <td>100000.000000</td>\n",
       "      <td>100000.000000</td>\n",
       "      <td>100000.000000</td>\n",
       "    </tr>\n",
       "    <tr>\n",
       "      <td>mean</td>\n",
       "      <td>1.141296</td>\n",
       "      <td>-4.796579</td>\n",
       "      <td>2.494541</td>\n",
       "      <td>68.825000</td>\n",
       "    </tr>\n",
       "    <tr>\n",
       "      <td>std</td>\n",
       "      <td>8.965932</td>\n",
       "      <td>5.119872</td>\n",
       "      <td>1.703572</td>\n",
       "      <td>45.944423</td>\n",
       "    </tr>\n",
       "    <tr>\n",
       "      <td>min</td>\n",
       "      <td>-31.609576</td>\n",
       "      <td>-26.358598</td>\n",
       "      <td>-0.018144</td>\n",
       "      <td>0.000000</td>\n",
       "    </tr>\n",
       "    <tr>\n",
       "      <td>25%</td>\n",
       "      <td>-6.298551</td>\n",
       "      <td>-8.267985</td>\n",
       "      <td>1.000021</td>\n",
       "      <td>26.953261</td>\n",
       "    </tr>\n",
       "    <tr>\n",
       "      <td>50%</td>\n",
       "      <td>1.153055</td>\n",
       "      <td>-4.813172</td>\n",
       "      <td>2.011479</td>\n",
       "      <td>57.085625</td>\n",
       "    </tr>\n",
       "    <tr>\n",
       "      <td>75%</td>\n",
       "      <td>8.621015</td>\n",
       "      <td>-1.332816</td>\n",
       "      <td>3.999904</td>\n",
       "      <td>107.813044</td>\n",
       "    </tr>\n",
       "    <tr>\n",
       "      <td>max</td>\n",
       "      <td>29.421755</td>\n",
       "      <td>18.734063</td>\n",
       "      <td>5.019721</td>\n",
       "      <td>137.945408</td>\n",
       "    </tr>\n",
       "  </tbody>\n",
       "</table>\n",
       "</div>"
      ],
      "text/plain": [
       "                  f0             f1             f2        product\n",
       "count  100000.000000  100000.000000  100000.000000  100000.000000\n",
       "mean        1.141296      -4.796579       2.494541      68.825000\n",
       "std         8.965932       5.119872       1.703572      45.944423\n",
       "min       -31.609576     -26.358598      -0.018144       0.000000\n",
       "25%        -6.298551      -8.267985       1.000021      26.953261\n",
       "50%         1.153055      -4.813172       2.011479      57.085625\n",
       "75%         8.621015      -1.332816       3.999904     107.813044\n",
       "max        29.421755      18.734063       5.019721     137.945408"
      ]
     },
     "metadata": {},
     "output_type": "display_data"
    },
    {
     "data": {
      "text/html": [
       "<div>\n",
       "<style scoped>\n",
       "    .dataframe tbody tr th:only-of-type {\n",
       "        vertical-align: middle;\n",
       "    }\n",
       "\n",
       "    .dataframe tbody tr th {\n",
       "        vertical-align: top;\n",
       "    }\n",
       "\n",
       "    .dataframe thead th {\n",
       "        text-align: right;\n",
       "    }\n",
       "</style>\n",
       "<table border=\"1\" class=\"dataframe\">\n",
       "  <thead>\n",
       "    <tr style=\"text-align: right;\">\n",
       "      <th></th>\n",
       "      <th>f0</th>\n",
       "      <th>f1</th>\n",
       "      <th>f2</th>\n",
       "      <th>product</th>\n",
       "    </tr>\n",
       "  </thead>\n",
       "  <tbody>\n",
       "    <tr>\n",
       "      <td>count</td>\n",
       "      <td>100000.000000</td>\n",
       "      <td>100000.000000</td>\n",
       "      <td>100000.000000</td>\n",
       "      <td>100000.000000</td>\n",
       "    </tr>\n",
       "    <tr>\n",
       "      <td>mean</td>\n",
       "      <td>0.002023</td>\n",
       "      <td>-0.002081</td>\n",
       "      <td>2.495128</td>\n",
       "      <td>95.000000</td>\n",
       "    </tr>\n",
       "    <tr>\n",
       "      <td>std</td>\n",
       "      <td>1.732045</td>\n",
       "      <td>1.730417</td>\n",
       "      <td>3.473445</td>\n",
       "      <td>44.749921</td>\n",
       "    </tr>\n",
       "    <tr>\n",
       "      <td>min</td>\n",
       "      <td>-8.760004</td>\n",
       "      <td>-7.084020</td>\n",
       "      <td>-11.970335</td>\n",
       "      <td>0.000000</td>\n",
       "    </tr>\n",
       "    <tr>\n",
       "      <td>25%</td>\n",
       "      <td>-1.162288</td>\n",
       "      <td>-1.174820</td>\n",
       "      <td>0.130359</td>\n",
       "      <td>59.450441</td>\n",
       "    </tr>\n",
       "    <tr>\n",
       "      <td>50%</td>\n",
       "      <td>0.009424</td>\n",
       "      <td>-0.009482</td>\n",
       "      <td>2.484236</td>\n",
       "      <td>94.925613</td>\n",
       "    </tr>\n",
       "    <tr>\n",
       "      <td>75%</td>\n",
       "      <td>1.158535</td>\n",
       "      <td>1.163678</td>\n",
       "      <td>4.858794</td>\n",
       "      <td>130.595027</td>\n",
       "    </tr>\n",
       "    <tr>\n",
       "      <td>max</td>\n",
       "      <td>7.238262</td>\n",
       "      <td>7.844801</td>\n",
       "      <td>16.739402</td>\n",
       "      <td>190.029838</td>\n",
       "    </tr>\n",
       "  </tbody>\n",
       "</table>\n",
       "</div>"
      ],
      "text/plain": [
       "                  f0             f1             f2        product\n",
       "count  100000.000000  100000.000000  100000.000000  100000.000000\n",
       "mean        0.002023      -0.002081       2.495128      95.000000\n",
       "std         1.732045       1.730417       3.473445      44.749921\n",
       "min        -8.760004      -7.084020     -11.970335       0.000000\n",
       "25%        -1.162288      -1.174820       0.130359      59.450441\n",
       "50%         0.009424      -0.009482       2.484236      94.925613\n",
       "75%         1.158535       1.163678       4.858794     130.595027\n",
       "max         7.238262       7.844801      16.739402     190.029838"
      ]
     },
     "metadata": {},
     "output_type": "display_data"
    }
   ],
   "source": [
    "display(df0.describe())\n",
    "display(df1.describe())\n",
    "display(df2.describe())"
   ]
  },
  {
   "cell_type": "markdown",
   "metadata": {},
   "source": [
    "**Check the number of columns and rows of dataframes**"
   ]
  },
  {
   "cell_type": "code",
   "execution_count": 7,
   "metadata": {},
   "outputs": [
    {
     "data": {
      "text/plain": [
       "(100000, 5)"
      ]
     },
     "metadata": {},
     "output_type": "display_data"
    },
    {
     "data": {
      "text/plain": [
       "(100000, 5)"
      ]
     },
     "metadata": {},
     "output_type": "display_data"
    },
    {
     "data": {
      "text/plain": [
       "(100000, 5)"
      ]
     },
     "metadata": {},
     "output_type": "display_data"
    }
   ],
   "source": [
    "display(df0.shape)\n",
    "display(df1.shape)\n",
    "display(df2.shape)"
   ]
  },
  {
   "cell_type": "markdown",
   "metadata": {},
   "source": [
    "There are 100,000 rows and 5 columns in each dataset."
   ]
  },
  {
   "cell_type": "markdown",
   "metadata": {},
   "source": [
    "**Check for the missing values**"
   ]
  },
  {
   "cell_type": "code",
   "execution_count": 8,
   "metadata": {},
   "outputs": [
    {
     "data": {
      "text/plain": [
       "id         0\n",
       "f0         0\n",
       "f1         0\n",
       "f2         0\n",
       "product    0\n",
       "dtype: int64"
      ]
     },
     "metadata": {},
     "output_type": "display_data"
    },
    {
     "data": {
      "text/plain": [
       "id         0\n",
       "f0         0\n",
       "f1         0\n",
       "f2         0\n",
       "product    0\n",
       "dtype: int64"
      ]
     },
     "metadata": {},
     "output_type": "display_data"
    },
    {
     "data": {
      "text/plain": [
       "id         0\n",
       "f0         0\n",
       "f1         0\n",
       "f2         0\n",
       "product    0\n",
       "dtype: int64"
      ]
     },
     "metadata": {},
     "output_type": "display_data"
    }
   ],
   "source": [
    "display(df0.isnull().sum())\n",
    "display(df1.isnull().sum())\n",
    "display(df2.isnull().sum())"
   ]
  },
  {
   "cell_type": "markdown",
   "metadata": {},
   "source": [
    "We don't have any missing values in our datasets."
   ]
  },
  {
   "cell_type": "markdown",
   "metadata": {},
   "source": [
    "**Check for duplicates**"
   ]
  },
  {
   "cell_type": "code",
   "execution_count": 9,
   "metadata": {},
   "outputs": [
    {
     "data": {
      "text/plain": [
       "0"
      ]
     },
     "metadata": {},
     "output_type": "display_data"
    },
    {
     "data": {
      "text/plain": [
       "0"
      ]
     },
     "metadata": {},
     "output_type": "display_data"
    },
    {
     "data": {
      "text/plain": [
       "0"
      ]
     },
     "metadata": {},
     "output_type": "display_data"
    }
   ],
   "source": [
    "display(df0.duplicated().sum())\n",
    "display(df1.duplicated().sum())\n",
    "display(df2.duplicated().sum())"
   ]
  },
  {
   "cell_type": "markdown",
   "metadata": {},
   "source": [
    "We don't have any duplicate values. "
   ]
  },
  {
   "cell_type": "markdown",
   "metadata": {},
   "source": [
    "**Check for corrrelations**"
   ]
  },
  {
   "cell_type": "code",
   "execution_count": 10,
   "metadata": {},
   "outputs": [
    {
     "data": {
      "image/png": "[encoded data removed]",
      "text/plain": [
       "<Figure size 576x360 with 2 Axes>"
      ]
     },
     "metadata": {
      "needs_background": "light"
     },
     "output_type": "display_data"
    }
   ],
   "source": [
    "plt.figure(figsize=(8,5))\n",
    "sns.heatmap(df0.corr(), cmap = 'RdPu', alpha = 0.8, annot = True);"
   ]
  },
  {
   "cell_type": "markdown",
   "metadata": {},
   "source": [
    "In df0, f2 has positive correlation with the product,  with correlation coefficient = 0.48. "
   ]
  },
  {
   "cell_type": "code",
   "execution_count": 11,
   "metadata": {
    "scrolled": true
   },
   "outputs": [
    {
     "data": {
      "image/png": "[encoded data removed]",
      "text/plain": [
       "<Figure size 576x360 with 2 Axes>"
      ]
     },
     "metadata": {
      "needs_background": "light"
     },
     "output_type": "display_data"
    }
   ],
   "source": [
    "plt.figure(figsize=(8,5))\n",
    "sns.heatmap(df1.corr(), cmap = 'RdPu', alpha = 0.8, annot = True);"
   ]
  },
  {
   "cell_type": "markdown",
   "metadata": {},
   "source": [
    "In df1, f2 has strong positive correlation with the product with correlation coefficient = 1. "
   ]
  },
  {
   "cell_type": "code",
   "execution_count": 12,
   "metadata": {
    "scrolled": true
   },
   "outputs": [
    {
     "data": {
      "image/png": "[encoded data removed]",
      "text/plain": [
       "<Figure size 576x360 with 2 Axes>"
      ]
     },
     "metadata": {
      "needs_background": "light"
     },
     "output_type": "display_data"
    }
   ],
   "source": [
    "plt.figure(figsize=(8,5))\n",
    "sns.heatmap(df2.corr(), cmap = 'RdPu', alpha = 0.8, annot = True);"
   ]
  },
  {
   "cell_type": "markdown",
   "metadata": {},
   "source": [
    "In df2, f2 has positive correlation with the product with correlation coefficient = 0.45."
   ]
  },
  {
   "cell_type": "markdown",
   "metadata": {},
   "source": [
    "**Conclusion**"
   ]
  },
  {
   "cell_type": "markdown",
   "metadata": {},
   "source": [
    "* There are 100,000 rows and 5 columns in each dataset.\n",
    "* We don't have any missing nor duplicate values. \n",
    "* In all the dataset, f2 has positive correlation with the product. "
   ]
  },
  {
   "cell_type": "markdown",
   "metadata": {},
   "source": [
    "## Train and test the model for each region"
   ]
  },
  {
   "cell_type": "markdown",
   "metadata": {},
   "source": [
    "**Train and test the model for each region**"
   ]
  },
  {
   "cell_type": "markdown",
   "metadata": {},
   "source": [
    "**Region 1**"
   ]
  },
  {
   "cell_type": "code",
   "execution_count": 13,
   "metadata": {},
   "outputs": [],
   "source": [
    "X0 = df0.drop(['id', 'product'], axis= 1)\n",
    "y0 = df0['product']\n",
    "X_train0, X_valid0, y_train0, y_valid0 = train_test_split(X0, y0 ,test_size = 0.25, random_state = np.random.RandomState(12345))\n",
    "\n",
    "model0 = LinearRegression()\n",
    "model0.fit(X_train0, y_train0) \n",
    "pred0 = pd.Series(model0.predict(X_valid0), index = y_valid0.index)"
   ]
  },
  {
   "cell_type": "code",
   "execution_count": 14,
   "metadata": {},
   "outputs": [
    {
     "name": "stdout",
     "output_type": "stream",
     "text": [
      "RMSE: 37.5794\n",
      "Score: 0.2742\n",
      "Average volume of reserves: 92.08\n",
      "The average volume of predicted reserves is: 92.59\n"
     ]
    }
   ],
   "source": [
    "print(\"RMSE: %.4f\" % np.sqrt(mean_squared_error(y_valid0, pred0)))\n",
    "print('Score: %.4f' % model0.score(X_train0, y_train0))\n",
    "print('Average volume of reserves: %.2f' % y_valid0.mean())\n",
    "print('The average volume of predicted reserves is: %.2f' % pred0.mean())"
   ]
  },
  {
   "cell_type": "markdown",
   "metadata": {},
   "source": [
    "**Region 2**"
   ]
  },
  {
   "cell_type": "code",
   "execution_count": 15,
   "metadata": {},
   "outputs": [],
   "source": [
    "X1 = df1.drop(['id', 'product'], axis= 1)\n",
    "y1 = df1['product']\n",
    "X_train1, X_valid1, y_train1, y_valid1 = train_test_split(X1, y1 ,test_size = 0.25, random_state = np.random.RandomState(12345))\n",
    "\n",
    "model1 = LinearRegression()\n",
    "model1.fit(X_train1, y_train1) \n",
    "pred1 = pd.Series(model1.predict(X_valid1), index = y_valid1.index)"
   ]
  },
  {
   "cell_type": "code",
   "execution_count": 16,
   "metadata": {},
   "outputs": [
    {
     "name": "stdout",
     "output_type": "stream",
     "text": [
      "RMSE: 0.8931\n",
      "Score: 0.9996\n",
      "Average volume of reserves: 68.72\n",
      "The average volume of predicted reserves is: 68.73\n"
     ]
    }
   ],
   "source": [
    "print(\"RMSE: %.4f\" % np.sqrt(mean_squared_error(y_valid1, pred1)))\n",
    "print('Score: %.4f' % model1.score(X_train1, y_train1))\n",
    "print('Average volume of reserves: %.2f' % y_valid1.mean())\n",
    "print('The average volume of predicted reserves is: %.2f' % pred1.mean())"
   ]
  },
  {
   "cell_type": "markdown",
   "metadata": {},
   "source": [
    "**Region 3**"
   ]
  },
  {
   "cell_type": "code",
   "execution_count": 17,
   "metadata": {},
   "outputs": [],
   "source": [
    "X2 = df2.drop(['id', 'product'], axis= 1)\n",
    "y2 = df2['product']\n",
    "X_train2, X_valid2, y_train2, y_valid2 = train_test_split(X2, y2 ,test_size = 0.25, random_state = np.random.RandomState(12345))\n",
    "\n",
    "model2 = LinearRegression()\n",
    "model2.fit(X_train2, y_train2) \n",
    "pred2 = pd.Series(model2.predict(X_valid2), index = y_valid2.index)"
   ]
  },
  {
   "cell_type": "code",
   "execution_count": 18,
   "metadata": {},
   "outputs": [
    {
     "name": "stdout",
     "output_type": "stream",
     "text": [
      "RMSE: 40.0297\n",
      "Score: 0.1966\n",
      "Average volume of reserves: 94.88\n",
      "The average volume of predicted reserves is: 94.97\n"
     ]
    }
   ],
   "source": [
    "print(\"RMSE: %.4f\" % np.sqrt(mean_squared_error(y_valid2, pred2)))\n",
    "print('Score: %.4f' % model2.score(X_train2, y_train2))\n",
    "print('Average volume of reserves: %.2f' % y_valid2.mean())\n",
    "print('The average volume of predicted reserves is: %.2f' % pred2.mean())"
   ]
  },
  {
   "cell_type": "markdown",
   "metadata": {},
   "source": [
    "**Conclusion**\n",
    "* The average volumn of reserves and predicted reserves are quite similar. \n",
    "* The accuracy score and RMSE indicate the model for region 1 and region 3 have poor result, we should not use them to select a well in the region.\n",
    "* Overall, the model for region 2 is a perfect predictor of the reserve in this region. "
   ]
  },
  {
   "cell_type": "markdown",
   "metadata": {},
   "source": [
    "## Profit calculation"
   ]
  },
  {
   "cell_type": "markdown",
   "metadata": {},
   "source": [
    "**Store all key values for calculations in separate variables**"
   ]
  },
  {
   "cell_type": "code",
   "execution_count": 19,
   "metadata": {},
   "outputs": [],
   "source": [
    "budget = 100000000 #100 million USD\n",
    "total_points = 500\n",
    "best_points = 200\n",
    "one_barrel_revenue = 4.5\n",
    "one_product_revenue = 4500"
   ]
  },
  {
   "cell_type": "markdown",
   "metadata": {},
   "source": [
    "**Calculate the volume of reserves sufficient for developing a new well without losses. Compare the obtained value with the average volume of reserves in each region.**"
   ]
  },
  {
   "cell_type": "code",
   "execution_count": 20,
   "metadata": {
    "scrolled": true
   },
   "outputs": [
    {
     "name": "stdout",
     "output_type": "stream",
     "text": [
      "Price for one well is $500000.00\n",
      "The volume of reserves sufficient for developing a new well without losses is 111.11\n"
     ]
    }
   ],
   "source": [
    "one_well_price = budget / best_points\n",
    "print('Price for one well is $%.2f'% one_well_price)\n",
    "vol_reserves = one_well_price / one_product_revenue\n",
    "print('The volume of reserves sufficient for developing a new well without losses is %.2f' % vol_reserves)"
   ]
  },
  {
   "cell_type": "markdown",
   "metadata": {},
   "source": [
    "## Write a function to calculate profit from a set of selected oil wells and model predictions"
   ]
  },
  {
   "cell_type": "code",
   "execution_count": 21,
   "metadata": {},
   "outputs": [],
   "source": [
    "def profit(target, predictions, count):\n",
    "    pred_sorted = pd.Series(predictions).reset_index(drop = True).sort_values(ascending = False)\n",
    "    selected = target.reset_index(drop = True).iloc[pred_sorted.index][:count]\n",
    "    vol_product = selected.sum()\n",
    "    revenue = vol_product * one_product_revenue\n",
    "    cost = count * one_well_price\n",
    "    return revenue - cost"
   ]
  },
  {
   "cell_type": "code",
   "execution_count": 22,
   "metadata": {},
   "outputs": [
    {
     "name": "stdout",
     "output_type": "stream",
     "text": [
      "Profit for Region 1 is $33208260.43\n",
      "Profit for Region 2 is $24150866.97\n",
      "Profit for Region 3 is $27103499.64\n"
     ]
    }
   ],
   "source": [
    "print('Profit for Region 1 is $%.2f' % profit(y_valid0, pred0, 200))\n",
    "print('Profit for Region 2 is $%.2f' % profit(y_valid1, pred1, 200))\n",
    "print('Profit for Region 3 is $%.2f' % profit(y_valid2, pred2, 200))"
   ]
  },
  {
   "cell_type": "markdown",
   "metadata": {},
   "source": [
    "**Conclusion**\n",
    "* The volumn of reserves sufficient for developing a new well without loses is 111 barries.\n",
    "* Region 1 has the highest profit with 33million USD, if we are lucky to get top 200 wells overall in our sample of 500. "
   ]
  },
  {
   "cell_type": "markdown",
   "metadata": {},
   "source": [
    "## Calculate risks and profit for each region"
   ]
  },
  {
   "cell_type": "markdown",
   "metadata": {},
   "source": [
    "**Use the bootstrapping technique with 1000 samples to find the distribution of profit.**\n",
    "\n",
    "**Find average profit, 95% confidence interval and risk of losses. Loss is negative profit, calculate it as a probability and then express as a percentage.**\n",
    "\n",
    "**Provide findings: suggest a region for development of oil wells and justify the choice.**"
   ]
  },
  {
   "cell_type": "code",
   "execution_count": 23,
   "metadata": {},
   "outputs": [],
   "source": [
    "state = np.random.RandomState(12345)\n",
    "def bootstrap_profit(target_boot, prediction_boot):\n",
    "    profits = []\n",
    "    for i in range(1000):\n",
    "        target_subsample = target_boot.sample(n = 500, replace = True, random_state = state)\n",
    "        pred_subsample = prediction_boot[target_subsample.index]\n",
    "        profits.append(profit(target_subsample, pred_subsample, 200))\n",
    "    profits = pd.Series(profits)\n",
    "    \n",
    "    avg = profits.mean().round(2)\n",
    "    lower = profits.quantile(0.025).round(2)\n",
    "    upper = profits.quantile(0.975).round(2)\n",
    "    CI = (lower, upper)\n",
    "    risks = (profits < 0).sum() / len(profits)\n",
    "\n",
    "    print(\"Average profit is\", avg)\n",
    "    print(\"25% Quantile is\", lower)\n",
    "    print('95% Confidence Interval is', CI)\n",
    "    print(\"Risk is {:.2%}\".format( risks))\n",
    "    \n",
    "    return avg, lower, CI, risks"
   ]
  },
  {
   "cell_type": "markdown",
   "metadata": {},
   "source": [
    "**Region 1**"
   ]
  },
  {
   "cell_type": "code",
   "execution_count": 24,
   "metadata": {},
   "outputs": [
    {
     "name": "stdout",
     "output_type": "stream",
     "text": [
      "Average profit is 3961649.85\n",
      "25% Quantile is -1112155.46\n",
      "95% Confidence Interval is (-1112155.46, 9097669.42)\n",
      "Risk is 6.90%\n"
     ]
    }
   ],
   "source": [
    "avg, lower, CI, risks = bootstrap_profit(y_valid0, pred0)"
   ]
  },
  {
   "cell_type": "markdown",
   "metadata": {},
   "source": [
    "**Region 2**"
   ]
  },
  {
   "cell_type": "code",
   "execution_count": 25,
   "metadata": {
    "scrolled": true
   },
   "outputs": [
    {
     "name": "stdout",
     "output_type": "stream",
     "text": [
      "Average profit is 4611558.17\n",
      "25% Quantile is 780508.11\n",
      "95% Confidence Interval is (780508.11, 8629520.6)\n",
      "Risk is 0.70%\n"
     ]
    }
   ],
   "source": [
    "avg, lower, CI, risks = bootstrap_profit(y_valid1, pred1)"
   ]
  },
  {
   "cell_type": "markdown",
   "metadata": {},
   "source": [
    "**Region 3**"
   ]
  },
  {
   "cell_type": "code",
   "execution_count": 26,
   "metadata": {
    "scrolled": true
   },
   "outputs": [
    {
     "name": "stdout",
     "output_type": "stream",
     "text": [
      "Average profit is 3929504.75\n",
      "25% Quantile is -1122276.25\n",
      "95% Confidence Interval is (-1122276.25, 9345629.15)\n",
      "Risk is 6.50%\n"
     ]
    }
   ],
   "source": [
    "avg, lower, CI, risks = bootstrap_profit(y_valid2, pred2)"
   ]
  },
  {
   "cell_type": "markdown",
   "metadata": {},
   "source": [
    "**Conclusion**\n",
    "* From the Bootstrap analysis, the region with highest profit is Region 2, with an average profit 4.6million USD. \n",
    "* The regions with the risk of losses lower than 2.5% is Region 2, which has 0.7% risk. "
   ]
  },
  {
   "cell_type": "markdown",
   "metadata": {},
   "source": [
    "## Overall Conclusion\n"
   ]
  },
  {
   "cell_type": "markdown",
   "metadata": {},
   "source": [
    "* We have three datasets\n",
    "    * There are 100,000 rows and 5 columns in each dataset.\n",
    "    * We don't have any missing nor duplicate values.\n",
    "    * In all the dataset, f2 has positive correlation with the product.\n",
    "* After train and test the model for each region\n",
    "    * The average volumn of reserves and predicted reserves are quite similar.\n",
    "    * The accuracy score and RMSE indicate the model for Region 1 and Region 3 have poor result, we should not use them to select a well in the region.\n",
    "    * Overall, the model for Region 2 is a perfect predictor of the reserve in this region.\n",
    "* We calculated profit from a set of selected oil wells and model predictions\n",
    "    * Price for one well is $500000.0\n",
    "    * The volumn of reserves sufficient for developing a new well without loses is 111 barries.\n",
    "    * Region 1 has the highest profit with 33million USD.\n",
    "* We calculated risks and profit for each region and used Use the bootstrapping technique with 1000 samples to find the distribution of profit.\n",
    "    *  The region with highest profit is Region 2, with an average profit 4.6million USD.\n",
    "    * The regions with the risk of losses lower than 2.5% is Region 2, which has 0.7% risk."
   ]
  },
  {
   "cell_type": "code",
   "execution_count": null,
   "metadata": {},
   "outputs": [],
   "source": []
  }
 ],
 "metadata": {
  "ExecuteTimeLog": [
   {
    "duration": 1275,
    "start_time": "2021-10-01T18:18:21.748Z"
   },
   {
    "duration": 1089,
    "start_time": "2021-10-01T18:20:04.227Z"
   },
   {
    "duration": 32,
    "start_time": "2021-10-01T18:20:39.436Z"
   },
   {
    "duration": 20,
    "start_time": "2021-10-01T18:21:16.265Z"
   },
   {
    "duration": 28,
    "start_time": "2021-10-01T18:21:46.795Z"
   },
   {
    "duration": 105,
    "start_time": "2021-10-01T18:22:26.605Z"
   },
   {
    "duration": 7,
    "start_time": "2021-10-01T18:23:28.530Z"
   },
   {
    "duration": 35,
    "start_time": "2021-10-01T18:24:45.343Z"
   },
   {
    "duration": 127,
    "start_time": "2021-10-01T18:25:40.398Z"
   },
   {
    "duration": 379,
    "start_time": "2021-10-01T18:32:02.937Z"
   },
   {
    "duration": 295,
    "start_time": "2021-10-01T18:32:12.054Z"
   },
   {
    "duration": 361,
    "start_time": "2021-10-01T18:32:18.649Z"
   },
   {
    "duration": 279,
    "start_time": "2021-10-01T18:32:26.173Z"
   },
   {
    "duration": 317,
    "start_time": "2021-10-01T18:32:35.537Z"
   },
   {
    "duration": 427,
    "start_time": "2021-10-01T18:34:47.936Z"
   },
   {
    "duration": 331,
    "start_time": "2021-10-01T18:35:30.044Z"
   },
   {
    "duration": 328,
    "start_time": "2021-10-01T18:37:03.600Z"
   },
   {
    "duration": 3,
    "start_time": "2021-10-01T19:05:20.569Z"
   },
   {
    "duration": 51,
    "start_time": "2021-10-01T19:41:31.543Z"
   },
   {
    "duration": 41,
    "start_time": "2021-10-01T19:42:00.897Z"
   },
   {
    "duration": 680,
    "start_time": "2021-10-01T19:55:36.253Z"
   },
   {
    "duration": 544,
    "start_time": "2021-10-01T19:55:44.221Z"
   },
   {
    "duration": 4,
    "start_time": "2021-10-01T19:56:12.782Z"
   },
   {
    "duration": 524,
    "start_time": "2021-10-01T19:56:15.464Z"
   },
   {
    "duration": 467,
    "start_time": "2021-10-01T19:56:25.008Z"
   },
   {
    "duration": 1290,
    "start_time": "2021-10-01T19:59:04.545Z"
   },
   {
    "duration": 1128,
    "start_time": "2021-10-01T19:59:05.837Z"
   },
   {
    "duration": 24,
    "start_time": "2021-10-01T19:59:06.968Z"
   },
   {
    "duration": 19,
    "start_time": "2021-10-01T19:59:06.994Z"
   },
   {
    "duration": 66,
    "start_time": "2021-10-01T19:59:07.015Z"
   },
   {
    "duration": 123,
    "start_time": "2021-10-01T19:59:07.082Z"
   },
   {
    "duration": 5,
    "start_time": "2021-10-01T19:59:07.207Z"
   },
   {
    "duration": 53,
    "start_time": "2021-10-01T19:59:07.214Z"
   },
   {
    "duration": 140,
    "start_time": "2021-10-01T19:59:07.270Z"
   },
   {
    "duration": 356,
    "start_time": "2021-10-01T19:59:07.412Z"
   },
   {
    "duration": 313,
    "start_time": "2021-10-01T19:59:07.770Z"
   },
   {
    "duration": 312,
    "start_time": "2021-10-01T19:59:08.086Z"
   },
   {
    "duration": 450,
    "start_time": "2021-10-01T19:59:08.401Z"
   },
   {
    "duration": 27,
    "start_time": "2021-10-01T19:59:30.196Z"
   },
   {
    "duration": 92,
    "start_time": "2021-10-01T20:00:53.662Z"
   },
   {
    "duration": 25,
    "start_time": "2021-10-01T20:02:13.186Z"
   },
   {
    "duration": 337,
    "start_time": "2021-10-01T20:04:22.453Z"
   },
   {
    "duration": 4,
    "start_time": "2021-10-01T20:04:50.289Z"
   },
   {
    "duration": 233,
    "start_time": "2021-10-01T20:04:53.798Z"
   },
   {
    "duration": 4,
    "start_time": "2021-10-01T20:05:20.336Z"
   },
   {
    "duration": 5,
    "start_time": "2021-10-01T20:08:01.736Z"
   },
   {
    "duration": 5,
    "start_time": "2021-10-01T20:09:01.251Z"
   },
   {
    "duration": 4,
    "start_time": "2021-10-01T20:09:10.126Z"
   },
   {
    "duration": 10,
    "start_time": "2021-10-01T20:09:48.130Z"
   },
   {
    "duration": 20,
    "start_time": "2021-10-01T20:13:01.279Z"
   },
   {
    "duration": 28,
    "start_time": "2021-10-01T20:14:34.068Z"
   },
   {
    "duration": 18,
    "start_time": "2021-10-01T20:14:53.650Z"
   },
   {
    "duration": 28,
    "start_time": "2021-10-01T20:16:24.416Z"
   },
   {
    "duration": 100,
    "start_time": "2021-10-01T20:16:53.656Z"
   },
   {
    "duration": 13,
    "start_time": "2021-10-01T20:17:14.985Z"
   },
   {
    "duration": 1945,
    "start_time": "2021-10-02T16:36:26.624Z"
   },
   {
    "duration": 962,
    "start_time": "2021-10-02T16:36:28.573Z"
   },
   {
    "duration": 33,
    "start_time": "2021-10-02T16:36:29.539Z"
   },
   {
    "duration": 71,
    "start_time": "2021-10-02T16:36:29.575Z"
   },
   {
    "duration": 81,
    "start_time": "2021-10-02T16:36:29.649Z"
   },
   {
    "duration": 207,
    "start_time": "2021-10-02T16:36:29.733Z"
   },
   {
    "duration": 10,
    "start_time": "2021-10-02T16:36:29.943Z"
   },
   {
    "duration": 74,
    "start_time": "2021-10-02T16:36:29.958Z"
   },
   {
    "duration": 258,
    "start_time": "2021-10-02T16:36:30.036Z"
   },
   {
    "duration": 607,
    "start_time": "2021-10-02T16:36:30.297Z"
   },
   {
    "duration": 596,
    "start_time": "2021-10-02T16:36:30.908Z"
   },
   {
    "duration": 599,
    "start_time": "2021-10-02T16:36:31.507Z"
   },
   {
    "duration": 42,
    "start_time": "2021-10-02T16:36:32.109Z"
   },
   {
    "duration": 179,
    "start_time": "2021-10-02T16:36:32.154Z"
   },
   {
    "duration": 202,
    "start_time": "2021-10-02T16:36:32.336Z"
   },
   {
    "duration": 177,
    "start_time": "2021-10-02T16:36:32.546Z"
   },
   {
    "duration": 124,
    "start_time": "2021-10-02T16:36:32.727Z"
   },
   {
    "duration": 81,
    "start_time": "2021-10-02T16:36:32.855Z"
   },
   {
    "duration": 4,
    "start_time": "2021-10-02T16:46:06.944Z"
   },
   {
    "duration": 5,
    "start_time": "2021-10-02T16:48:19.570Z"
   },
   {
    "duration": 540,
    "start_time": "2021-10-02T16:48:28.086Z"
   },
   {
    "duration": 4,
    "start_time": "2021-10-02T16:48:40.367Z"
   },
   {
    "duration": 5,
    "start_time": "2021-10-02T16:48:59.580Z"
   },
   {
    "duration": 6,
    "start_time": "2021-10-02T16:49:10.106Z"
   },
   {
    "duration": 5,
    "start_time": "2021-10-02T16:49:19.018Z"
   },
   {
    "duration": 6,
    "start_time": "2021-10-02T16:51:04.846Z"
   },
   {
    "duration": 6,
    "start_time": "2021-10-02T17:04:06.540Z"
   },
   {
    "duration": 11,
    "start_time": "2021-10-02T17:05:44.801Z"
   },
   {
    "duration": 14,
    "start_time": "2021-10-02T17:06:17.994Z"
   },
   {
    "duration": 12,
    "start_time": "2021-10-02T17:06:57.909Z"
   },
   {
    "duration": 12,
    "start_time": "2021-10-02T17:07:11.448Z"
   },
   {
    "duration": 11,
    "start_time": "2021-10-02T17:07:15.799Z"
   },
   {
    "duration": 8,
    "start_time": "2021-10-02T17:07:23.399Z"
   },
   {
    "duration": 5,
    "start_time": "2021-10-02T17:07:28.906Z"
   },
   {
    "duration": 5,
    "start_time": "2021-10-02T17:07:45.848Z"
   },
   {
    "duration": 6,
    "start_time": "2021-10-02T17:08:07.562Z"
   },
   {
    "duration": 23,
    "start_time": "2021-10-02T17:08:51.720Z"
   },
   {
    "duration": 119,
    "start_time": "2021-10-02T17:33:02.807Z"
   },
   {
    "duration": 8,
    "start_time": "2021-10-02T17:33:10.410Z"
   },
   {
    "duration": 7,
    "start_time": "2021-10-02T17:33:28.140Z"
   },
   {
    "duration": 7,
    "start_time": "2021-10-02T17:33:45.443Z"
   },
   {
    "duration": 7,
    "start_time": "2021-10-02T17:34:10.101Z"
   },
   {
    "duration": 28,
    "start_time": "2021-10-02T17:34:39.209Z"
   },
   {
    "duration": 15,
    "start_time": "2021-10-02T17:34:39.725Z"
   },
   {
    "duration": 30,
    "start_time": "2021-10-02T17:34:41.148Z"
   },
   {
    "duration": 18,
    "start_time": "2021-10-02T17:34:42.929Z"
   },
   {
    "duration": 30,
    "start_time": "2021-10-02T17:34:46.650Z"
   },
   {
    "duration": 14,
    "start_time": "2021-10-02T17:34:47.874Z"
   },
   {
    "duration": 9,
    "start_time": "2021-10-02T17:34:54.404Z"
   },
   {
    "duration": 3168,
    "start_time": "2021-10-02T17:35:42.523Z"
   },
   {
    "duration": 9,
    "start_time": "2021-10-02T17:35:53.697Z"
   },
   {
    "duration": 3083,
    "start_time": "2021-10-02T17:35:54.583Z"
   },
   {
    "duration": 8,
    "start_time": "2021-10-02T17:36:06.455Z"
   },
   {
    "duration": 2517,
    "start_time": "2021-10-02T17:36:07.213Z"
   },
   {
    "duration": 1642,
    "start_time": "2021-10-02T17:37:58.925Z"
   },
   {
    "duration": 1257,
    "start_time": "2021-10-02T17:38:00.570Z"
   },
   {
    "duration": 37,
    "start_time": "2021-10-02T17:38:01.831Z"
   },
   {
    "duration": 62,
    "start_time": "2021-10-02T17:38:01.871Z"
   },
   {
    "duration": 88,
    "start_time": "2021-10-02T17:38:01.936Z"
   },
   {
    "duration": 153,
    "start_time": "2021-10-02T17:38:02.026Z"
   },
   {
    "duration": 9,
    "start_time": "2021-10-02T17:38:02.181Z"
   },
   {
    "duration": 58,
    "start_time": "2021-10-02T17:38:02.194Z"
   },
   {
    "duration": 231,
    "start_time": "2021-10-02T17:38:02.258Z"
   },
   {
    "duration": 597,
    "start_time": "2021-10-02T17:38:02.492Z"
   },
   {
    "duration": 534,
    "start_time": "2021-10-02T17:38:03.091Z"
   },
   {
    "duration": 432,
    "start_time": "2021-10-02T17:38:03.628Z"
   },
   {
    "duration": 68,
    "start_time": "2021-10-02T17:38:04.063Z"
   },
   {
    "duration": 190,
    "start_time": "2021-10-02T17:38:04.134Z"
   },
   {
    "duration": 120,
    "start_time": "2021-10-02T17:38:04.327Z"
   },
   {
    "duration": 80,
    "start_time": "2021-10-02T17:38:04.452Z"
   },
   {
    "duration": 204,
    "start_time": "2021-10-02T17:38:04.536Z"
   },
   {
    "duration": 179,
    "start_time": "2021-10-02T17:38:04.744Z"
   },
   {
    "duration": 6,
    "start_time": "2021-10-02T17:38:04.928Z"
   },
   {
    "duration": 98,
    "start_time": "2021-10-02T17:38:04.937Z"
   },
   {
    "duration": 13,
    "start_time": "2021-10-02T17:38:05.038Z"
   },
   {
    "duration": 46,
    "start_time": "2021-10-02T17:38:05.054Z"
   },
   {
    "duration": 19,
    "start_time": "2021-10-02T17:38:05.103Z"
   },
   {
    "duration": 4008,
    "start_time": "2021-10-02T17:38:05.126Z"
   },
   {
    "duration": 8,
    "start_time": "2021-10-02T17:43:11.739Z"
   },
   {
    "duration": 2831,
    "start_time": "2021-10-02T17:43:33.415Z"
   },
   {
    "duration": 8,
    "start_time": "2021-10-02T17:43:49.101Z"
   },
   {
    "duration": 724,
    "start_time": "2021-10-02T17:43:51.045Z"
   },
   {
    "duration": 9,
    "start_time": "2021-10-02T17:44:01.439Z"
   },
   {
    "duration": 3183,
    "start_time": "2021-10-02T17:44:02.525Z"
   },
   {
    "duration": 8,
    "start_time": "2021-10-02T17:45:37.261Z"
   },
   {
    "duration": 4076,
    "start_time": "2021-10-02T17:45:39.540Z"
   },
   {
    "duration": 8,
    "start_time": "2021-10-02T17:47:28.488Z"
   },
   {
    "duration": 3718,
    "start_time": "2021-10-02T17:47:29.606Z"
   },
   {
    "duration": 8,
    "start_time": "2021-10-02T17:47:46.416Z"
   },
   {
    "duration": 3663,
    "start_time": "2021-10-02T17:47:47.923Z"
   },
   {
    "duration": 7,
    "start_time": "2021-10-02T17:48:30.523Z"
   },
   {
    "duration": 3835,
    "start_time": "2021-10-02T17:48:31.371Z"
   },
   {
    "duration": 96,
    "start_time": "2021-10-02T17:49:57.612Z"
   },
   {
    "duration": 5,
    "start_time": "2021-10-02T17:50:10.742Z"
   },
   {
    "duration": 3731,
    "start_time": "2021-10-02T17:50:19.659Z"
   },
   {
    "duration": 11,
    "start_time": "2021-10-02T17:51:18.686Z"
   },
   {
    "duration": 3755,
    "start_time": "2021-10-02T17:51:19.685Z"
   },
   {
    "duration": 8,
    "start_time": "2021-10-02T17:51:49.456Z"
   },
   {
    "duration": 3764,
    "start_time": "2021-10-02T17:51:50.229Z"
   },
   {
    "duration": 8,
    "start_time": "2021-10-02T17:52:00.278Z"
   },
   {
    "duration": 3869,
    "start_time": "2021-10-02T17:52:02.888Z"
   },
   {
    "duration": 7,
    "start_time": "2021-10-02T17:56:49.896Z"
   },
   {
    "duration": 3804,
    "start_time": "2021-10-02T17:56:52.443Z"
   },
   {
    "duration": 7,
    "start_time": "2021-10-02T17:57:23.775Z"
   },
   {
    "duration": 3600,
    "start_time": "2021-10-02T17:57:24.472Z"
   },
   {
    "duration": 443,
    "start_time": "2021-10-02T17:58:47.964Z"
   },
   {
    "duration": 7,
    "start_time": "2021-10-02T17:58:53.449Z"
   },
   {
    "duration": 3603,
    "start_time": "2021-10-02T17:58:54.610Z"
   },
   {
    "duration": 7,
    "start_time": "2021-10-02T17:59:41.702Z"
   },
   {
    "duration": 567,
    "start_time": "2021-10-02T17:59:42.751Z"
   },
   {
    "duration": 8,
    "start_time": "2021-10-02T17:59:52.092Z"
   },
   {
    "duration": 8,
    "start_time": "2021-10-02T17:59:55.035Z"
   },
   {
    "duration": 4042,
    "start_time": "2021-10-02T17:59:55.673Z"
   },
   {
    "duration": 556,
    "start_time": "2021-10-02T18:01:52.360Z"
   },
   {
    "duration": 562,
    "start_time": "2021-10-02T18:02:08.751Z"
   },
   {
    "duration": 8,
    "start_time": "2021-10-02T18:02:31.160Z"
   },
   {
    "duration": 8,
    "start_time": "2021-10-02T18:02:33.272Z"
   },
   {
    "duration": 3667,
    "start_time": "2021-10-02T18:02:33.940Z"
   },
   {
    "duration": 100,
    "start_time": "2021-10-02T18:07:16.657Z"
   },
   {
    "duration": 7,
    "start_time": "2021-10-02T18:07:23.428Z"
   },
   {
    "duration": 546,
    "start_time": "2021-10-02T18:07:24.439Z"
   },
   {
    "duration": 7,
    "start_time": "2021-10-02T18:07:42.242Z"
   },
   {
    "duration": 4607,
    "start_time": "2021-10-02T18:07:42.895Z"
   },
   {
    "duration": 9,
    "start_time": "2021-10-02T18:08:30.838Z"
   },
   {
    "duration": 3722,
    "start_time": "2021-10-02T18:08:32.578Z"
   },
   {
    "duration": 7,
    "start_time": "2021-10-02T18:09:41.955Z"
   },
   {
    "duration": 3674,
    "start_time": "2021-10-02T18:10:13.104Z"
   },
   {
    "duration": 8,
    "start_time": "2021-10-02T18:14:06.297Z"
   },
   {
    "duration": 5582,
    "start_time": "2021-10-02T18:14:07.576Z"
   },
   {
    "duration": 6,
    "start_time": "2021-10-02T18:16:58.047Z"
   },
   {
    "duration": 8,
    "start_time": "2021-10-02T18:17:04.317Z"
   },
   {
    "duration": 3621,
    "start_time": "2021-10-02T18:17:05.569Z"
   },
   {
    "duration": 11,
    "start_time": "2021-10-02T18:17:37.967Z"
   },
   {
    "duration": 6249,
    "start_time": "2021-10-02T18:17:54.405Z"
   },
   {
    "duration": 1587,
    "start_time": "2021-10-02T18:18:14.315Z"
   },
   {
    "duration": 1332,
    "start_time": "2021-10-02T18:18:15.905Z"
   },
   {
    "duration": 34,
    "start_time": "2021-10-02T18:18:17.240Z"
   },
   {
    "duration": 63,
    "start_time": "2021-10-02T18:18:17.277Z"
   },
   {
    "duration": 39,
    "start_time": "2021-10-02T18:18:17.342Z"
   },
   {
    "duration": 173,
    "start_time": "2021-10-02T18:18:17.384Z"
   },
   {
    "duration": 7,
    "start_time": "2021-10-02T18:18:17.560Z"
   },
   {
    "duration": 57,
    "start_time": "2021-10-02T18:18:17.570Z"
   },
   {
    "duration": 214,
    "start_time": "2021-10-02T18:18:17.632Z"
   },
   {
    "duration": 449,
    "start_time": "2021-10-02T18:18:17.849Z"
   },
   {
    "duration": 441,
    "start_time": "2021-10-02T18:18:18.301Z"
   },
   {
    "duration": 455,
    "start_time": "2021-10-02T18:18:18.744Z"
   },
   {
    "duration": 37,
    "start_time": "2021-10-02T18:18:19.201Z"
   },
   {
    "duration": 94,
    "start_time": "2021-10-02T18:18:19.242Z"
   },
   {
    "duration": 206,
    "start_time": "2021-10-02T18:18:19.339Z"
   },
   {
    "duration": 176,
    "start_time": "2021-10-02T18:18:19.549Z"
   },
   {
    "duration": 119,
    "start_time": "2021-10-02T18:18:19.727Z"
   },
   {
    "duration": 179,
    "start_time": "2021-10-02T18:18:19.850Z"
   },
   {
    "duration": 100,
    "start_time": "2021-10-02T18:18:20.034Z"
   },
   {
    "duration": 5,
    "start_time": "2021-10-02T18:18:20.136Z"
   },
   {
    "duration": 22,
    "start_time": "2021-10-02T18:18:20.143Z"
   },
   {
    "duration": 40,
    "start_time": "2021-10-02T18:18:20.167Z"
   },
   {
    "duration": 7,
    "start_time": "2021-10-02T18:18:20.210Z"
   },
   {
    "duration": 3807,
    "start_time": "2021-10-02T18:18:20.220Z"
   },
   {
    "duration": 11,
    "start_time": "2021-10-02T18:18:42.612Z"
   },
   {
    "duration": 4060,
    "start_time": "2021-10-02T18:18:44.735Z"
   },
   {
    "duration": 9,
    "start_time": "2021-10-02T18:19:42.874Z"
   },
   {
    "duration": 711,
    "start_time": "2021-10-02T18:19:50.193Z"
   },
   {
    "duration": 8,
    "start_time": "2021-10-02T18:20:09.161Z"
   },
   {
    "duration": 2610,
    "start_time": "2021-10-02T18:20:10.142Z"
   },
   {
    "duration": 7,
    "start_time": "2021-10-02T18:20:42.982Z"
   },
   {
    "duration": 5,
    "start_time": "2021-10-02T18:21:00.218Z"
   },
   {
    "duration": 4051,
    "start_time": "2021-10-02T18:21:01.176Z"
   },
   {
    "duration": 3769,
    "start_time": "2021-10-02T18:21:15.704Z"
   },
   {
    "duration": 8,
    "start_time": "2021-10-02T18:21:55.927Z"
   },
   {
    "duration": 7,
    "start_time": "2021-10-02T18:22:02.386Z"
   },
   {
    "duration": 283,
    "start_time": "2021-10-02T18:22:10.235Z"
   },
   {
    "duration": 7,
    "start_time": "2021-10-02T18:22:23.396Z"
   },
   {
    "duration": 9,
    "start_time": "2021-10-02T18:23:20.248Z"
   },
   {
    "duration": 7,
    "start_time": "2021-10-02T18:23:42.546Z"
   },
   {
    "duration": 7,
    "start_time": "2021-10-02T18:24:36.273Z"
   },
   {
    "duration": 3576,
    "start_time": "2021-10-02T18:24:48.216Z"
   },
   {
    "duration": 5,
    "start_time": "2021-10-02T18:27:45.592Z"
   },
   {
    "duration": 6,
    "start_time": "2021-10-02T18:28:00.111Z"
   },
   {
    "duration": 284,
    "start_time": "2021-10-02T18:28:06.000Z"
   },
   {
    "duration": 5,
    "start_time": "2021-10-02T18:28:14.363Z"
   },
   {
    "duration": 6,
    "start_time": "2021-10-02T18:28:22.055Z"
   },
   {
    "duration": 5,
    "start_time": "2021-10-02T18:28:52.491Z"
   },
   {
    "duration": 3954,
    "start_time": "2021-10-02T18:31:28.366Z"
   },
   {
    "duration": 7,
    "start_time": "2021-10-02T18:31:51.039Z"
   },
   {
    "duration": 3603,
    "start_time": "2021-10-02T18:31:52.031Z"
   },
   {
    "duration": 7,
    "start_time": "2021-10-02T18:32:48.482Z"
   },
   {
    "duration": 3914,
    "start_time": "2021-10-02T18:32:49.444Z"
   },
   {
    "duration": 8,
    "start_time": "2021-10-02T18:34:08.220Z"
   },
   {
    "duration": 1831,
    "start_time": "2021-10-02T18:34:12.162Z"
   },
   {
    "duration": 8,
    "start_time": "2021-10-02T18:34:33.120Z"
   },
   {
    "duration": 2142,
    "start_time": "2021-10-02T18:34:35.196Z"
   },
   {
    "duration": 2368,
    "start_time": "2021-10-02T18:34:55.420Z"
   },
   {
    "duration": 2113,
    "start_time": "2021-10-02T18:35:04.673Z"
   },
   {
    "duration": 9,
    "start_time": "2021-10-02T18:35:37.488Z"
   },
   {
    "duration": 2171,
    "start_time": "2021-10-02T18:35:38.336Z"
   },
   {
    "duration": 11,
    "start_time": "2021-10-02T18:35:57.902Z"
   },
   {
    "duration": 2547,
    "start_time": "2021-10-02T18:35:58.759Z"
   },
   {
    "duration": 9,
    "start_time": "2021-10-02T18:36:11.205Z"
   },
   {
    "duration": 2111,
    "start_time": "2021-10-02T18:36:12.257Z"
   },
   {
    "duration": 7,
    "start_time": "2021-10-02T18:36:37.469Z"
   },
   {
    "duration": 3347,
    "start_time": "2021-10-02T18:36:41.377Z"
   },
   {
    "duration": 7,
    "start_time": "2021-10-02T18:36:49.708Z"
   },
   {
    "duration": 3316,
    "start_time": "2021-10-02T18:36:50.654Z"
   },
   {
    "duration": 3331,
    "start_time": "2021-10-02T18:37:16.767Z"
   },
   {
    "duration": 11,
    "start_time": "2021-10-02T18:38:59.681Z"
   },
   {
    "duration": 3462,
    "start_time": "2021-10-02T18:39:00.640Z"
   },
   {
    "duration": 10,
    "start_time": "2021-10-02T18:39:12.968Z"
   },
   {
    "duration": 4905,
    "start_time": "2021-10-02T18:39:13.697Z"
   },
   {
    "duration": 8,
    "start_time": "2021-10-02T18:39:44.065Z"
   },
   {
    "duration": 3496,
    "start_time": "2021-10-02T18:39:44.994Z"
   },
   {
    "duration": 8,
    "start_time": "2021-10-02T18:39:55.446Z"
   },
   {
    "duration": 3422,
    "start_time": "2021-10-02T18:39:56.155Z"
   },
   {
    "duration": 8,
    "start_time": "2021-10-02T18:40:47.320Z"
   },
   {
    "duration": 3311,
    "start_time": "2021-10-02T18:40:48.017Z"
   },
   {
    "duration": 3362,
    "start_time": "2021-10-02T18:40:59.739Z"
   },
   {
    "duration": 8,
    "start_time": "2021-10-02T18:42:04.208Z"
   },
   {
    "duration": 3323,
    "start_time": "2021-10-02T18:42:04.812Z"
   },
   {
    "duration": 3502,
    "start_time": "2021-10-02T18:42:11.834Z"
   },
   {
    "duration": 3788,
    "start_time": "2021-10-02T18:42:56.670Z"
   },
   {
    "duration": 5,
    "start_time": "2021-10-02T19:01:32.268Z"
   },
   {
    "duration": 5,
    "start_time": "2021-10-02T19:05:40.203Z"
   },
   {
    "duration": 5,
    "start_time": "2021-10-02T19:06:50.232Z"
   },
   {
    "duration": 1727,
    "start_time": "2021-10-03T15:01:14.519Z"
   },
   {
    "duration": 1497,
    "start_time": "2021-10-03T15:01:16.249Z"
   },
   {
    "duration": 47,
    "start_time": "2021-10-03T15:01:17.749Z"
   },
   {
    "duration": 30,
    "start_time": "2021-10-03T15:01:17.798Z"
   },
   {
    "duration": 83,
    "start_time": "2021-10-03T15:01:17.831Z"
   },
   {
    "duration": 197,
    "start_time": "2021-10-03T15:01:17.917Z"
   },
   {
    "duration": 9,
    "start_time": "2021-10-03T15:01:18.117Z"
   },
   {
    "duration": 58,
    "start_time": "2021-10-03T15:01:18.129Z"
   },
   {
    "duration": 223,
    "start_time": "2021-10-03T15:01:18.191Z"
   },
   {
    "duration": 500,
    "start_time": "2021-10-03T15:01:18.417Z"
   },
   {
    "duration": 483,
    "start_time": "2021-10-03T15:01:18.919Z"
   },
   {
    "duration": 491,
    "start_time": "2021-10-03T15:01:19.405Z"
   },
   {
    "duration": 72,
    "start_time": "2021-10-03T15:01:19.899Z"
   },
   {
    "duration": 97,
    "start_time": "2021-10-03T15:01:19.975Z"
   },
   {
    "duration": 127,
    "start_time": "2021-10-03T15:01:20.076Z"
   },
   {
    "duration": 75,
    "start_time": "2021-10-03T15:01:20.206Z"
   },
   {
    "duration": 204,
    "start_time": "2021-10-03T15:01:20.285Z"
   },
   {
    "duration": 91,
    "start_time": "2021-10-03T15:01:20.493Z"
   },
   {
    "duration": 80,
    "start_time": "2021-10-03T15:01:20.588Z"
   },
   {
    "duration": 106,
    "start_time": "2021-10-03T15:01:20.676Z"
   },
   {
    "duration": 9,
    "start_time": "2021-10-03T15:01:20.785Z"
   },
   {
    "duration": 28,
    "start_time": "2021-10-03T15:01:20.796Z"
   },
   {
    "duration": 8,
    "start_time": "2021-10-03T15:01:20.828Z"
   },
   {
    "duration": 3732,
    "start_time": "2021-10-03T15:01:20.838Z"
   },
   {
    "duration": 3720,
    "start_time": "2021-10-03T15:01:24.573Z"
   },
   {
    "duration": 4184,
    "start_time": "2021-10-03T15:01:28.296Z"
   }
  ],
  "kernelspec": {
   "display_name": "Python 3",
   "language": "python",
   "name": "python3"
  },
  "language_info": {
   "codemirror_mode": {
    "name": "ipython",
    "version": 3
   },
   "file_extension": ".py",
   "mimetype": "text/x-python",
   "name": "python",
   "nbconvert_exporter": "python",
   "pygments_lexer": "ipython3",
   "version": "3.8.3"
  },
  "toc": {
   "base_numbering": 1,
   "nav_menu": {},
   "number_sections": true,
   "sideBar": true,
   "skip_h1_title": true,
   "title_cell": "Table of Contents",
   "title_sidebar": "Contents",
   "toc_cell": true,
   "toc_position": {
    "height": "calc(100% - 180px)",
    "left": "10px",
    "top": "150px",
    "width": "289.6px"
   },
   "toc_section_display": true,
   "toc_window_display": true
  }
 },
 "nbformat": 4,
 "nbformat_minor": 4
}
